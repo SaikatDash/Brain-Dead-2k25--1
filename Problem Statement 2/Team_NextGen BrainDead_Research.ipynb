{
 "cells": [
  {
   "cell_type": "code",
   "execution_count": 1,
   "id": "3bdc7756-4277-4391-97fa-1df34fe2fc51",
   "metadata": {},
   "outputs": [],
   "source": [
    "from datasets import load_dataset"
   ]
  },
  {
   "cell_type": "code",
   "execution_count": 3,
   "id": "71d4c4d2-2fad-40e2-81f2-aab53b772ada",
   "metadata": {},
   "outputs": [],
   "source": [
    "import pandas as pd\n",
    "\n",
    "df_train = pd.DataFrame(dataset[\"train\"])\n",
    "df_val = pd.DataFrame(dataset[\"validation\"])\n",
    "df_test = pd.DataFrame(dataset[\"test\"])"
   ]
  },
  {
   "cell_type": "code",
   "execution_count": 4,
   "id": "1821e6b3-2ef0-4a18-8bdb-cea271f9e380",
   "metadata": {},
   "outputs": [
    {
     "name": "stdout",
     "output_type": "stream",
     "text": [
      "CSV files saved successfully!\n"
     ]
    }
   ],
   "source": [
    "# Save to CSV files\n",
    "df_train.to_csv(\"pubmed_train.csv\", index=False)\n",
    "df_val.to_csv(\"pubmed_validation.csv\", index=False)\n",
    "df_test.to_csv(\"pubmed_test.csv\", index=False)\n",
    "\n",
    "print(\"CSV files saved successfully!\")"
   ]
  },
  {
   "cell_type": "code",
   "execution_count": 5,
   "id": "d1e003dd-1dfd-4343-aee0-3d737fa9906b",
   "metadata": {},
   "outputs": [
    {
     "data": {
      "text/html": [
       "<div>\n",
       "<style scoped>\n",
       "    .dataframe tbody tr th:only-of-type {\n",
       "        vertical-align: middle;\n",
       "    }\n",
       "\n",
       "    .dataframe tbody tr th {\n",
       "        vertical-align: top;\n",
       "    }\n",
       "\n",
       "    .dataframe thead th {\n",
       "        text-align: right;\n",
       "    }\n",
       "</style>\n",
       "<table border=\"1\" class=\"dataframe\">\n",
       "  <thead>\n",
       "    <tr style=\"text-align: right;\">\n",
       "      <th></th>\n",
       "      <th>article</th>\n",
       "      <th>abstract</th>\n",
       "    </tr>\n",
       "  </thead>\n",
       "  <tbody>\n",
       "    <tr>\n",
       "      <th>0</th>\n",
       "      <td>a recent systematic analysis showed that in 20...</td>\n",
       "      <td>background : the present study was carried out...</td>\n",
       "    </tr>\n",
       "    <tr>\n",
       "      <th>1</th>\n",
       "      <td>it occurs in more than 50% of patients and may...</td>\n",
       "      <td>backgroundanemia in patients with cancer who a...</td>\n",
       "    </tr>\n",
       "    <tr>\n",
       "      <th>2</th>\n",
       "      <td>tardive dystonia ( td ) , a rarer side effect ...</td>\n",
       "      <td>tardive dystonia ( td ) is a serious side effe...</td>\n",
       "    </tr>\n",
       "    <tr>\n",
       "      <th>3</th>\n",
       "      <td>lepidoptera include agricultural pests that , ...</td>\n",
       "      <td>many lepidopteran insects are agricultural pes...</td>\n",
       "    </tr>\n",
       "    <tr>\n",
       "      <th>4</th>\n",
       "      <td>syncope is caused by transient diffuse cerebra...</td>\n",
       "      <td>we present an unusual case of recurrent cough ...</td>\n",
       "    </tr>\n",
       "  </tbody>\n",
       "</table>\n",
       "</div>"
      ],
      "text/plain": [
       "                                             article  \\\n",
       "0  a recent systematic analysis showed that in 20...   \n",
       "1  it occurs in more than 50% of patients and may...   \n",
       "2  tardive dystonia ( td ) , a rarer side effect ...   \n",
       "3  lepidoptera include agricultural pests that , ...   \n",
       "4  syncope is caused by transient diffuse cerebra...   \n",
       "\n",
       "                                            abstract  \n",
       "0  background : the present study was carried out...  \n",
       "1  backgroundanemia in patients with cancer who a...  \n",
       "2  tardive dystonia ( td ) is a serious side effe...  \n",
       "3  many lepidopteran insects are agricultural pes...  \n",
       "4  we present an unusual case of recurrent cough ...  "
      ]
     },
     "execution_count": 5,
     "metadata": {},
     "output_type": "execute_result"
    }
   ],
   "source": [
    "df = pd.read_csv(\"pubmed_train.csv\")\n",
    "df.head()  # Show first few rows"
   ]
  },
  {
   "cell_type": "code",
   "execution_count": 6,
   "id": "46abdee7-c0c4-493a-894a-9396fb7f1925",
   "metadata": {},
   "outputs": [
    {
     "data": {
      "text/html": [
       "<div>\n",
       "<style scoped>\n",
       "    .dataframe tbody tr th:only-of-type {\n",
       "        vertical-align: middle;\n",
       "    }\n",
       "\n",
       "    .dataframe tbody tr th {\n",
       "        vertical-align: top;\n",
       "    }\n",
       "\n",
       "    .dataframe thead th {\n",
       "        text-align: right;\n",
       "    }\n",
       "</style>\n",
       "<table border=\"1\" class=\"dataframe\">\n",
       "  <thead>\n",
       "    <tr style=\"text-align: right;\">\n",
       "      <th></th>\n",
       "      <th>article</th>\n",
       "      <th>abstract</th>\n",
       "    </tr>\n",
       "  </thead>\n",
       "  <tbody>\n",
       "    <tr>\n",
       "      <th>0</th>\n",
       "      <td>a recent systematic analysis showed that in 20...</td>\n",
       "      <td>background : the present study was carried out...</td>\n",
       "    </tr>\n",
       "    <tr>\n",
       "      <th>1</th>\n",
       "      <td>it occurs in more than 50% of patients and may...</td>\n",
       "      <td>backgroundanemia in patients with cancer who a...</td>\n",
       "    </tr>\n",
       "    <tr>\n",
       "      <th>2</th>\n",
       "      <td>tardive dystonia ( td ) , a rarer side effect ...</td>\n",
       "      <td>tardive dystonia ( td ) is a serious side effe...</td>\n",
       "    </tr>\n",
       "    <tr>\n",
       "      <th>3</th>\n",
       "      <td>lepidoptera include agricultural pests that , ...</td>\n",
       "      <td>many lepidopteran insects are agricultural pes...</td>\n",
       "    </tr>\n",
       "    <tr>\n",
       "      <th>4</th>\n",
       "      <td>syncope is caused by transient diffuse cerebra...</td>\n",
       "      <td>we present an unusual case of recurrent cough ...</td>\n",
       "    </tr>\n",
       "  </tbody>\n",
       "</table>\n",
       "</div>"
      ],
      "text/plain": [
       "                                             article  \\\n",
       "0  a recent systematic analysis showed that in 20...   \n",
       "1  it occurs in more than 50% of patients and may...   \n",
       "2  tardive dystonia ( td ) , a rarer side effect ...   \n",
       "3  lepidoptera include agricultural pests that , ...   \n",
       "4  syncope is caused by transient diffuse cerebra...   \n",
       "\n",
       "                                            abstract  \n",
       "0  background : the present study was carried out...  \n",
       "1  backgroundanemia in patients with cancer who a...  \n",
       "2  tardive dystonia ( td ) is a serious side effe...  \n",
       "3  many lepidopteran insects are agricultural pes...  \n",
       "4  we present an unusual case of recurrent cough ...  "
      ]
     },
     "execution_count": 6,
     "metadata": {},
     "output_type": "execute_result"
    }
   ],
   "source": [
    "import pandas as pd\n",
    "\n",
    "# Load CSV files (Assuming you have saved them as pubmed_train.csv, pubmed_validation.csv, pubmed_test.csv)\n",
    "df_train = pd.read_csv(\"pubmed_train.csv\")\n",
    "df_val = pd.read_csv(\"pubmed_validation.csv\")\n",
    "df_test = pd.read_csv(\"pubmed_test.csv\")\n",
    "\n",
    "# Display first few rows\n",
    "df_train.head()"
   ]
  },
  {
   "cell_type": "code",
   "execution_count": 7,
   "id": "119b11b5-6225-484d-b9b5-f734254ea18d",
   "metadata": {},
   "outputs": [
    {
     "name": "stdout",
     "output_type": "stream",
     "text": [
      "Index(['article', 'abstract'], dtype='object')\n"
     ]
    }
   ],
   "source": [
    "print(df_train.columns)"
   ]
  },
  {
   "cell_type": "code",
   "execution_count": 8,
   "id": "2e6a16d9-91b5-48be-ab42-0a2397cce772",
   "metadata": {},
   "outputs": [
    {
     "name": "stdout",
     "output_type": "stream",
     "text": [
      "ArXiv Dataset Successfully Converted to CSV!\n",
      "          id                                              title  \\\n",
      "0  0704.0001  Calculation of prompt diphoton production cros...   \n",
      "1  0704.0002           Sparsity-certifying Graph Decompositions   \n",
      "2  0704.0003  The evolution of the Earth-Moon system based o...   \n",
      "3  0704.0004  A determinant of Stirling cycle numbers counts...   \n",
      "4  0704.0005  From dyadic $\\Lambda_{\\alpha}$ to $\\Lambda_{\\a...   \n",
      "\n",
      "                                            abstract       categories  \n",
      "0    A fully differential calculation in perturba...           hep-ph  \n",
      "1    We describe a new algorithm, the $(k,\\ell)$-...    math.CO cs.CG  \n",
      "2    The evolution of Earth-Moon system is descri...   physics.gen-ph  \n",
      "3    We show that a determinant of Stirling cycle...          math.CO  \n",
      "4    In this paper we show how to compute the $\\L...  math.CA math.FA  \n"
     ]
    }
   ],
   "source": [
    "import pandas as pd\n",
    "import json\n",
    "\n",
    "# Step 1: Load the arXiv dataset (JSON format)\n",
    "arxiv_file = \"arxiv-metadata-oai-snapshot.json\"  # Update with your actual file path\n",
    "\n",
    "# Read the JSON file line by line (since it's in JSONL format)\n",
    "data = []\n",
    "with open(arxiv_file, \"r\", encoding=\"utf-8\") as f:\n",
    "    for line in f:\n",
    "        data.append(json.loads(line))\n",
    "\n",
    "# Convert to DataFrame, ensuring columns exist\n",
    "arxiv_df = pd.DataFrame(data, columns=[\"id\", \"title\", \"abstract\", \"categories\"])\n",
    "\n",
    "# Save as CSV\n",
    "arxiv_df.to_csv(\"arxiv-dataset.csv\", index=False, encoding=\"utf-8\")\n",
    "\n",
    "print(\"ArXiv Dataset Successfully Converted to CSV!\")\n",
    "print(arxiv_df.head())  # Display first few rows"
   ]
  },
  {
   "cell_type": "code",
   "execution_count": null,
   "id": "ef62fdfa-d9b6-4742-86e5-66ee34593c85",
   "metadata": {},
   "outputs": [],
   "source": [
    "import pandas as pd\n",
    "import json\n",
    "from transformers import pipeline\n",
    "\n",
    "# Load arXiv dataset\n",
    "arxiv_file = \"arxiv-metadata-oai-snapshot.json\"\n",
    "\n",
    "with open(arxiv_file, \"r\", encoding=\"utf-8\") as f:\n",
    "    arxiv_data = [json.loads(line) for line in f]\n",
    "    arxiv_df = pd.DataFrame(arxiv_data)\n",
    "\n",
    "arxiv_df = arxiv_df[[\"id\", \"title\", \"abstract\", \"categories\"]]\n",
    "print(\"Loaded arXiv dataset!\", arxiv_df.shape)\n",
    "\n",
    "# Load CompScholar dataset\n",
    "comp_scholar_file = \"/mnt/data/Brain Dead CompScholar Dataset.csv\"\n",
    "comp_scholar_df = pd.read_csv(comp_scholar_file)\n",
    "print(\"Loaded CompScholar dataset!\", comp_scholar_df.shape)\n",
    "\n",
    "# Load PubMed dataset\n",
    "pubmed_file = \"/mnt/data/pubmed_test.xls\"\n",
    "pubmed_df = pd.read_excel(pubmed_file)\n",
    "print(\"Loaded PubMed dataset!\", pubmed_df.shape)\n",
    "\n",
    "# Combine datasets for summarization\n",
    "combined_df = pd.concat([arxiv_df, comp_scholar_df, pubmed_df], ignore_index=True)\n",
    "print(\"Combined dataset shape:\", combined_df.shape)\n",
    "\n",
    "# Summarization using a pretrained model\n",
    "summarizer = pipeline(\"summarization\", model=\"facebook/bart-large-cnn\")\n",
    "\n",
    "def generate_summary(text):\n",
    "    try:\n",
    "        summary = summarizer(text[:1024], max_length=200, min_length=50, do_sample=False)\n",
    "        return summary[0]['summary_text']\n",
    "    except Exception as e:\n",
    "        return \"Error in summarization\"\n",
    "\n",
    "combined_df[\"summary\"] = combined_df[\"abstract\"].apply(lambda x: generate_summary(str(x)))\n",
    "\n",
    "# Save summarized dataset\n",
    "combined_df.to_csv(\"summarized_research_articles.csv\", index=False)\n",
    "print(\"Summarization complete! File saved as summarized_research_articles.csv\")\n"
   ]
  },
  {
   "cell_type": "code",
   "execution_count": 3,
   "id": "cf2beb46-1336-434b-83da-d26c9559c16d",
   "metadata": {},
   "outputs": [],
   "source": []
  },
  {
   "cell_type": "code",
   "execution_count": null,
   "id": "4725c1d4-811f-446c-917a-4fd42a9bc460",
   "metadata": {},
   "outputs": [],
   "source": []
  }
 ],
 "metadata": {
  "kernelspec": {
   "display_name": "Python 3 (ipykernel)",
   "language": "python",
   "name": "python3"
  },
  "language_info": {
   "codemirror_mode": {
    "name": "ipython",
    "version": 3
   },
   "file_extension": ".py",
   "mimetype": "text/x-python",
   "name": "python",
   "nbconvert_exporter": "python",
   "pygments_lexer": "ipython3",
   "version": "3.11.7"
  }
 },
 "nbformat": 4,
 "nbformat_minor": 5
}
